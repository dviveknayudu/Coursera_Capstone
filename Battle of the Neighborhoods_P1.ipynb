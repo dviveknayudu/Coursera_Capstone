{
 "cells": [
  {
   "cell_type": "markdown",
   "metadata": {},
   "source": [
    "# Battle of the Neighborhoods"
   ]
  },
  {
   "cell_type": "markdown",
   "metadata": {},
   "source": [
    "## Week 4 - Part 1"
   ]
  },
  {
   "cell_type": "markdown",
   "metadata": {},
   "source": [
    "### Title - Restaurant recommender for Nagpur City"
   ]
  },
  {
   "cell_type": "markdown",
   "metadata": {},
   "source": [
    "#### Background:"
   ]
  },
  {
   "cell_type": "markdown",
   "metadata": {},
   "source": [
    "Nagpur is the third largest city and the winter capital of the Indian state of Maharashtra. It is the 13th largest city by population in India. According to an Oxford Economics report, Nagpur is projected to be the fifth fastest growing city in the world from 2019-2035 with an average growth of 8.41%. It has been proposed as one of the Smart Cities in Maharashtra and is one of the top ten cities in India in Smart City Project execution. It is a major commercial and political centre of the Vidarbha region of Maharashtra.\n",
    "\n",
    "The Vidharbha region has its own distinctive cuisine known as the Varhadi cuisine or Saoji cuisine. Nagpur is also famous for its oranges, which have some typical qualities have recently begun to attract international attention. Numerous beverages are made out of the oranges. Santra Barfi is also a famous dish, arising from orange which is produced locally in Nagpur. Mominpura is a majority Muslim area of the city and it is famous for its Mughal dishes and Biryani. The city is also famous for rare black chickens called Kadaknath Chicken which are cooked in varhadi style. Nagpur is also famous for tarri poha, a variety of flattened rice, and has many food joints; each having their own way of preparing and serving it. Samosas are also famous in Nagpur and is available at many restaurants and food spots. Another famous food is Patodi and Kadhi."
   ]
  },
  {
   "cell_type": "markdown",
   "metadata": {},
   "source": [
    "#### Problem Statement:"
   ]
  },
  {
   "cell_type": "markdown",
   "metadata": {},
   "source": [
    "With growing state of affairs the city several restaurants have cropped up in city. It has become a hub for road side eateries and some old food joints and have rose into prominence. This puts students, visiting government officials and tourists in a state of dilemma when comes to find good places to eat.\n",
    "\n",
    "In such scenarios, we need to find the right place, at reasonable cost, to serve us the best possible way. So there are few questions that must be addresed, such as :\n",
    "\n",
    "1. Which cuisines are available in the restaurant?\n",
    "2. Which restaurant nearest to me with good ratings?\n",
    "3. How many \"similar\" restaurants are available near by me?\n",
    "4. Do the \"similar\" restaurants cost more? if so, what is their speciality?\n",
    "\n",
    "To address such questions, ABC company decides to allocate this project to me not to just find out answers to the questions but also build a system that can help in recommending new places based on their rankings compared to the previously visited by me.\n",
    "\n",
    "Expectations from this recommender system is to get answer for the questions, and in such a way that it uncovers all the perspective of managing recommendations. It is sighted to show:\n",
    "\n",
    "1. What types of restaurants are present in a particular area?\n",
    "2. where are the similar restaurant present based on a preference to particular food?\n",
    "3. How do different restaurants rank with respect to my preferences?"
   ]
  },
  {
   "cell_type": "markdown",
   "metadata": {},
   "source": [
    "#### Target Audience:"
   ]
  },
  {
   "cell_type": "markdown",
   "metadata": {},
   "source": [
    "Target audiences for this project does not limit to a students or tourists but everyone. People could simply decide to look for a similar restaurant all the time because they are addicted to a specific category of food. People who rarely use restaurants would prefer to have the most rated restaurants nearby them and all this could be easily handed by our recommender system. So target for this project is basically everyone who is exploring different places or similar places."
   ]
  },
  {
   "cell_type": "markdown",
   "metadata": {},
   "source": [
    "#### Success Rate:"
   ]
  },
  {
   "cell_type": "markdown",
   "metadata": {},
   "source": [
    "With restaurants evolving, new food categories emerge, hybrid food starts to be more popular, we need a system that could help us access vast number of food varieties. It is impossible for a person to ask each and everyone about their visit to a particular place and also not everyone remembers everything. On the other hand, Computers are good at remembering things, and with Machine learning to its peak, it high time technology will by our personal guidance and help us personally based on our likes and dislikes. So people would care about this project as their personal assistance and success rate could certainly increase with time."
   ]
  },
  {
   "cell_type": "code",
   "execution_count": null,
   "metadata": {},
   "outputs": [],
   "source": []
  }
 ],
 "metadata": {
  "kernelspec": {
   "display_name": "Python",
   "language": "python",
   "name": "conda-env-python-py"
  },
  "language_info": {
   "codemirror_mode": {
    "name": "ipython",
    "version": 3
   },
   "file_extension": ".py",
   "mimetype": "text/x-python",
   "name": "python",
   "nbconvert_exporter": "python",
   "pygments_lexer": "ipython3",
   "version": "3.6.7"
  }
 },
 "nbformat": 4,
 "nbformat_minor": 4
}
